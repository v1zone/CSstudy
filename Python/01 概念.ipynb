{
 "cells": [
  {
   "cell_type": "markdown",
   "id": "3bd1ef5b",
   "metadata": {},
   "source": []
  }
 ],
 "metadata": {
  "language_info": {
   "name": "python"
  }
 },
 "nbformat": 4,
 "nbformat_minor": 5
}
